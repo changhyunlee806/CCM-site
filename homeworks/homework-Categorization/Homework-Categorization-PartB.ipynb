{
 "cells": [
  {
   "cell_type": "markdown",
   "metadata": {},
   "source": [
    "# Homework - Categorization and Model Comparison Part B (40/110 points)"
   ]
  },
  {
   "cell_type": "markdown",
   "metadata": {},
   "source": [
    "by *Todd Gureckis* and *Brenden Lake*  \n",
    "Computational Cognitive Modeling  \n",
    "NYU class webpage: https://brendenlake.github.io/CCM-site/  "
   ]
  },
  {
   "cell_type": "markdown",
   "metadata": {},
   "source": [
    "<div class=\"alert alert-danger\" role=\"alert\">\n",
    "  This homework is due before midnight on April 25 2022. \n",
    "</div>"
   ]
  },
  {
   "cell_type": "markdown",
   "metadata": {},
   "source": [
    "---"
   ]
  },
  {
   "cell_type": "code",
   "execution_count": 1,
   "metadata": {},
   "outputs": [],
   "source": [
    "from IPython.display import display\n",
    "import string as str\n",
    "import os\n",
    "import numpy as np\n",
    "import seaborn as sns\n",
    "import pandas as pd\n",
    "import math\n",
    "from random import random, randint, shuffle, uniform\n",
    "from scipy.optimize import fmin, brute\n",
    "from scipy.special import comb # gets the combinations function\n",
    "from exemplarproto import *  # this grabs much of the code from Part A of the homework"
   ]
  },
  {
   "cell_type": "markdown",
   "metadata": {},
   "source": [
    "## Fitting the models using maximum likelihood"
   ]
  },
  {
   "cell_type": "markdown",
   "metadata": {},
   "source": [
    "As mentioned in the lecture, RMSE is not always an ideal mechanism for fitting models.  One reason is that it is insensitive to the number of observations that define each data point.  For example, remember in our experiment that participants saw the prototype item four times at test.  In contrast, there were 20 different \"new\" patterns.  This means there are five times as many trials contributing to the \"new\" bar in this graph as for the prototype patterns.  Since RMSE measures the raw deviation of the average model predictions from those of the model it doesn't take into account these issues.  Thus, we would like to also evaluate these two models using maximum likelihood.\n",
    "\n",
    "The key to this is going to be the provided function below which computes the likelihood of a particular set of data under a binomial probability model.:"
   ]
  },
  {
   "cell_type": "code",
   "execution_count": 2,
   "metadata": {},
   "outputs": [],
   "source": [
    "################################\n",
    "# computeLogLikelihood\n",
    "# N = number of observations\n",
    "# S = number of \"successes\" (i.e., endorsements)\n",
    "# p = predicted probability of successes by the model\n",
    "################################\n",
    "def computeLogLikelihood(N, S, p):\n",
    "    p = p if p > 0.0 else 0.0+1e-10\n",
    "    p = p if p < 1.0 else 1.0-1e-10\n",
    "    try:\n",
    "        result = math.log(comb(N, S)) + (S*math.log(p) + (N-S)*math.log(1.0-p))\n",
    "    except:\n",
    "        print(N, S, p)  # this shouldn't happen but just in case\n",
    "        result = 0\n",
    "    return result\n",
    "\n",
    "\n",
    "def pandas_ll(row):\n",
    "    return computeLogLikelihood(row['Total'], row['N_Yes'], row['Probability of Endorsement'])"
   ]
  },
  {
   "cell_type": "markdown",
   "metadata": {},
   "source": [
    "A short explanation may be in order: the models predictions take the form of probabilities of endorsement for each of the prototype, low, high, random, and old items. If you find out that people endorse the prototype on 2 out of 2 trials how likely is this outcome given that the model (for a particular set of parameters ) predicts an endorsement of p=0.8? Three numbers are required to do this for each data point N, the number of trials/presentations within the stimulus class, S the number of successes observed (S<=N), and p the predicted probability. Then you can turn the crank on the above `computeLogLikelihood()` function which returns the probability that you would get $S$ successes in $N$ trials if the true probability was $p$ (make sure you understand what is happening in `computeLogLikelihood`). You can sum these log likelihoods for each stimulus class (prototype, low, high, random, old) to compute a total log(likelihood) of the data for any given model with any set of parameters.   For this homework will we focus on fitting the group data rather than to individuals."
   ]
  },
  {
   "cell_type": "markdown",
   "metadata": {},
   "source": [
    "To get the data formatted into an appropriate shape for fitting likelihoods we provide a function `get_human_results_ll()` which returns a Pandas data frame containing the number of times a pattern of a particular type was endorsed and the number of times it was presented for each subject."
   ]
  },
  {
   "cell_type": "code",
   "execution_count": 3,
   "metadata": {},
   "outputs": [
    {
     "data": {
      "text/html": [
       "<div>\n",
       "<style scoped>\n",
       "    .dataframe tbody tr th:only-of-type {\n",
       "        vertical-align: middle;\n",
       "    }\n",
       "\n",
       "    .dataframe tbody tr th {\n",
       "        vertical-align: top;\n",
       "    }\n",
       "\n",
       "    .dataframe thead th {\n",
       "        text-align: right;\n",
       "    }\n",
       "</style>\n",
       "<table border=\"1\" class=\"dataframe\">\n",
       "  <thead>\n",
       "    <tr style=\"text-align: right;\">\n",
       "      <th></th>\n",
       "      <th>Subject</th>\n",
       "      <th>Condition</th>\n",
       "      <th>Stimulus Type</th>\n",
       "      <th>N_Yes</th>\n",
       "      <th>Total</th>\n",
       "    </tr>\n",
       "  </thead>\n",
       "  <tbody>\n",
       "    <tr>\n",
       "      <th>0</th>\n",
       "      <td>./data/8.dat</td>\n",
       "      <td>cat</td>\n",
       "      <td>Prototype</td>\n",
       "      <td>4</td>\n",
       "      <td>4</td>\n",
       "    </tr>\n",
       "    <tr>\n",
       "      <th>1</th>\n",
       "      <td>./data/8.dat</td>\n",
       "      <td>cat</td>\n",
       "      <td>Low</td>\n",
       "      <td>4</td>\n",
       "      <td>4</td>\n",
       "    </tr>\n",
       "    <tr>\n",
       "      <th>2</th>\n",
       "      <td>./data/8.dat</td>\n",
       "      <td>cat</td>\n",
       "      <td>High</td>\n",
       "      <td>10</td>\n",
       "      <td>10</td>\n",
       "    </tr>\n",
       "    <tr>\n",
       "      <th>3</th>\n",
       "      <td>./data/8.dat</td>\n",
       "      <td>cat</td>\n",
       "      <td>Random</td>\n",
       "      <td>15</td>\n",
       "      <td>20</td>\n",
       "    </tr>\n",
       "    <tr>\n",
       "      <th>4</th>\n",
       "      <td>./data/8.dat</td>\n",
       "      <td>cat</td>\n",
       "      <td>Old</td>\n",
       "      <td>20</td>\n",
       "      <td>20</td>\n",
       "    </tr>\n",
       "    <tr>\n",
       "      <th>...</th>\n",
       "      <td>...</td>\n",
       "      <td>...</td>\n",
       "      <td>...</td>\n",
       "      <td>...</td>\n",
       "      <td>...</td>\n",
       "    </tr>\n",
       "    <tr>\n",
       "      <th>0</th>\n",
       "      <td>./data/7.dat</td>\n",
       "      <td>rec</td>\n",
       "      <td>Prototype</td>\n",
       "      <td>3</td>\n",
       "      <td>4</td>\n",
       "    </tr>\n",
       "    <tr>\n",
       "      <th>1</th>\n",
       "      <td>./data/7.dat</td>\n",
       "      <td>rec</td>\n",
       "      <td>Low</td>\n",
       "      <td>4</td>\n",
       "      <td>4</td>\n",
       "    </tr>\n",
       "    <tr>\n",
       "      <th>2</th>\n",
       "      <td>./data/7.dat</td>\n",
       "      <td>rec</td>\n",
       "      <td>High</td>\n",
       "      <td>8</td>\n",
       "      <td>10</td>\n",
       "    </tr>\n",
       "    <tr>\n",
       "      <th>3</th>\n",
       "      <td>./data/7.dat</td>\n",
       "      <td>rec</td>\n",
       "      <td>Random</td>\n",
       "      <td>0</td>\n",
       "      <td>20</td>\n",
       "    </tr>\n",
       "    <tr>\n",
       "      <th>4</th>\n",
       "      <td>./data/7.dat</td>\n",
       "      <td>rec</td>\n",
       "      <td>Old</td>\n",
       "      <td>19</td>\n",
       "      <td>20</td>\n",
       "    </tr>\n",
       "  </tbody>\n",
       "</table>\n",
       "<p>70 rows × 5 columns</p>\n",
       "</div>"
      ],
      "text/plain": [
       "         Subject Condition Stimulus Type  N_Yes  Total\n",
       "0   ./data/8.dat       cat     Prototype      4      4\n",
       "1   ./data/8.dat       cat           Low      4      4\n",
       "2   ./data/8.dat       cat          High     10     10\n",
       "3   ./data/8.dat       cat        Random     15     20\n",
       "4   ./data/8.dat       cat           Old     20     20\n",
       "..           ...       ...           ...    ...    ...\n",
       "0   ./data/7.dat       rec     Prototype      3      4\n",
       "1   ./data/7.dat       rec           Low      4      4\n",
       "2   ./data/7.dat       rec          High      8     10\n",
       "3   ./data/7.dat       rec        Random      0     20\n",
       "4   ./data/7.dat       rec           Old     19     20\n",
       "\n",
       "[70 rows x 5 columns]"
      ]
     },
     "execution_count": 3,
     "metadata": {},
     "output_type": "execute_result"
    }
   ],
   "source": [
    "human_res=get_human_results_ll()\n",
    "human_res"
   ]
  },
  {
   "cell_type": "markdown",
   "metadata": {},
   "source": [
    "This reorganizes the data per condition."
   ]
  },
  {
   "cell_type": "code",
   "execution_count": 4,
   "metadata": {},
   "outputs": [
    {
     "data": {
      "text/html": [
       "<div>\n",
       "<style scoped>\n",
       "    .dataframe tbody tr th:only-of-type {\n",
       "        vertical-align: middle;\n",
       "    }\n",
       "\n",
       "    .dataframe tbody tr th {\n",
       "        vertical-align: top;\n",
       "    }\n",
       "\n",
       "    .dataframe thead th {\n",
       "        text-align: right;\n",
       "    }\n",
       "</style>\n",
       "<table border=\"1\" class=\"dataframe\">\n",
       "  <thead>\n",
       "    <tr style=\"text-align: right;\">\n",
       "      <th></th>\n",
       "      <th></th>\n",
       "      <th>N_Yes</th>\n",
       "      <th>Total</th>\n",
       "    </tr>\n",
       "    <tr>\n",
       "      <th>Condition</th>\n",
       "      <th>Stimulus Type</th>\n",
       "      <th></th>\n",
       "      <th></th>\n",
       "    </tr>\n",
       "  </thead>\n",
       "  <tbody>\n",
       "    <tr>\n",
       "      <th rowspan=\"5\" valign=\"top\">cat</th>\n",
       "      <th>High</th>\n",
       "      <td>49</td>\n",
       "      <td>70</td>\n",
       "    </tr>\n",
       "    <tr>\n",
       "      <th>Low</th>\n",
       "      <td>26</td>\n",
       "      <td>28</td>\n",
       "    </tr>\n",
       "    <tr>\n",
       "      <th>Old</th>\n",
       "      <td>110</td>\n",
       "      <td>140</td>\n",
       "    </tr>\n",
       "    <tr>\n",
       "      <th>Prototype</th>\n",
       "      <td>25</td>\n",
       "      <td>28</td>\n",
       "    </tr>\n",
       "    <tr>\n",
       "      <th>Random</th>\n",
       "      <td>37</td>\n",
       "      <td>140</td>\n",
       "    </tr>\n",
       "    <tr>\n",
       "      <th rowspan=\"5\" valign=\"top\">rec</th>\n",
       "      <th>High</th>\n",
       "      <td>20</td>\n",
       "      <td>70</td>\n",
       "    </tr>\n",
       "    <tr>\n",
       "      <th>Low</th>\n",
       "      <td>16</td>\n",
       "      <td>28</td>\n",
       "    </tr>\n",
       "    <tr>\n",
       "      <th>Old</th>\n",
       "      <td>89</td>\n",
       "      <td>140</td>\n",
       "    </tr>\n",
       "    <tr>\n",
       "      <th>Prototype</th>\n",
       "      <td>18</td>\n",
       "      <td>28</td>\n",
       "    </tr>\n",
       "    <tr>\n",
       "      <th>Random</th>\n",
       "      <td>7</td>\n",
       "      <td>140</td>\n",
       "    </tr>\n",
       "  </tbody>\n",
       "</table>\n",
       "</div>"
      ],
      "text/plain": [
       "                         N_Yes  Total\n",
       "Condition Stimulus Type              \n",
       "cat       High              49     70\n",
       "          Low               26     28\n",
       "          Old              110    140\n",
       "          Prototype         25     28\n",
       "          Random            37    140\n",
       "rec       High              20     70\n",
       "          Low               16     28\n",
       "          Old               89    140\n",
       "          Prototype         18     28\n",
       "          Random             7    140"
      ]
     },
     "execution_count": 4,
     "metadata": {},
     "output_type": "execute_result"
    }
   ],
   "source": [
    "human_data=human_res.groupby(['Condition','Stimulus Type']).sum()\n",
    "human_data"
   ]
  },
  {
   "cell_type": "markdown",
   "metadata": {},
   "source": [
    "Finally these function allow us to compute the negative log likelihood of the data given the model."
   ]
  },
  {
   "cell_type": "code",
   "execution_count": 5,
   "metadata": {},
   "outputs": [],
   "source": [
    "def fit_exemplar_model_nll(params, human_results):\n",
    "    [c_cat, k_cat, c_rec, k_rec] = params\n",
    "    k_cat = k_cat if k_cat > 0.0 else 0.0\n",
    "    k_rec = k_rec if k_rec > 0.0 else 0.0\n",
    "    predictions = get_exemplar_results(c_cat, k_cat, c_rec, k_rec)\n",
    "    model = predictions.groupby(\n",
    "        ['Condition', 'Stimulus Type'], as_index=False).mean()\n",
    "    fitted_data = pd.merge(model, human_results)\n",
    "    return -1.0*fitted_data.apply(pandas_ll, axis=1).sum()\n",
    "\n",
    "\n",
    "def fit_prototype_model_nll(params, human_results):\n",
    "    [c_cat, k_cat, c_rec, k_rec] = params\n",
    "    k_cat = k_cat if k_cat > 0.0 else 0.0\n",
    "    k_rec = k_rec if k_rec > 0.0 else 0.0\n",
    "    predictions = get_prototype_results(c_cat, k_cat, c_rec, k_rec)\n",
    "    model = predictions.groupby(\n",
    "        ['Condition', 'Stimulus Type'], as_index=False).mean()\n",
    "    fitted_data = pd.merge(model, human_results)\n",
    "    return -1.0*fitted_data.apply(pandas_ll, axis=1).sum()"
   ]
  },
  {
   "cell_type": "markdown",
   "metadata": {},
   "source": [
    "<div class=\"alert alert-success\" role=\"alert\">\n",
    "<h3> Problem 6 (20 points) </h3><br>\n",
    "The cell blocks below allow you to fit the exemplare model and the prototype model to the dataset we considered in Part A of the homework. Make sure you understand and follow the code provided above and in the provided library (exemplarproto.py).  Next, try altering the parameters to minimize the negative log likelihood score.  When you think you have found the best fit parameters for both the exemplar and prototype models report your final parameter values along with the plot of the resulting model predictions.  In a markdown cell describe which model you believe fits better.  Is this conclusion the same or different from what you considered in Part 4 of the homework?  If the fit looks different, why?\n",
    "</div>"
   ]
  },
  {
   "cell_type": "markdown",
   "metadata": {},
   "source": [
    "Answer:  \n",
    "best_examplar_param [1.48769296 0.35961247 1.93041277 0.78398669] -> NL score 28.268922073692416  \n",
    "best_prototype_param [1.58816955 0.03164535 1.87904483 0.08402034] -> NL score 32.246756097276645  \n",
    "  \n",
    "I believe exemplar model fits better than prototype model because its negative log (NL) score is lower than that of prototype model as shown above. Looking at the endorsement probability graph, exemplar model does much better in old and high stimulus, but it is worse in prototype and low stimulus types. The general trend was that exemplars tend to underestimate and prototypes tend to overestimate compared to human model. This conclusion is same as what I considered in Part 4 because exmplar did better with well performing old and high stimuli. The fit looks similar as well with both exemplar and prototype models."
   ]
  },
  {
   "cell_type": "code",
   "execution_count": 8,
   "metadata": {},
   "outputs": [
    {
     "name": "stdout",
     "output_type": "stream",
     "text": [
      "Optimization terminated successfully.\n",
      "         Current function value: 28.268922\n",
      "         Iterations: 105\n",
      "         Function evaluations: 189\n",
      "Optimization terminated successfully.\n",
      "         Current function value: 32.246756\n",
      "         Iterations: 245\n",
      "         Function evaluations: 405\n",
      "best_examplar_param [1.48769296 0.35961247 1.93041277 0.78398669]\n",
      "best_prototype_param [1.58816955 0.03164535 1.87904483 0.08402034]\n"
     ]
    }
   ],
   "source": [
    "human = human_res.groupby(['Condition', 'Stimulus Type'], as_index=False).sum()\n",
    "initial_x0 = [1.73818548, 0.17362409, 1.92580663, 0.66919728]\n",
    "\n",
    "best_examplar_param = fmin(fit_exemplar_model_nll, x0=initial_x0, args=(human,), full_output=True)\n",
    "best_prototype_param = fmin(fit_prototype_model_nll, x0=initial_x0, args=(human,), full_output=True)\n",
    "\n",
    "print('best_examplar_param',best_examplar_param[0])\n",
    "print('best_prototype_param',best_prototype_param[0])"
   ]
  },
  {
   "cell_type": "markdown",
   "metadata": {},
   "source": [
    "**Exemplar model**"
   ]
  },
  {
   "cell_type": "code",
   "execution_count": 9,
   "metadata": {},
   "outputs": [
    {
     "name": "stdout",
     "output_type": "stream",
     "text": [
      "The negative log score is 28.268922073692416\n"
     ]
    },
    {
     "data": {
      "text/plain": [
       "<AxesSubplot:xlabel='Stimulus Type', ylabel='Probability of Endorsement'>"
      ]
     },
     "execution_count": 9,
     "metadata": {},
     "output_type": "execute_result"
    },
    {
     "data": {
      "image/png": "[encoded data removed]",
      "text/plain": [
       "<Figure size 432x288 with 1 Axes>"
      ]
     },
     "metadata": {
      "needs_background": "light"
     },
     "output_type": "display_data"
    }
   ],
   "source": [
    "params = [1.48769296, 0.35961247, 1.93041277, 0.78398669]\n",
    "nllfit = fit_exemplar_model_nll(params, human)\n",
    "print(f'The negative log score is {nllfit}')\n",
    "\n",
    "# now plot the data\n",
    "c_cat, k_cat, c_rec, k_rec = params\n",
    "res = get_exemplar_results(c_cat, k_cat, c_rec, k_rec)\n",
    "sns.barplot(x=\"Stimulus Type\", y=\"Probability of Endorsement\",\n",
    "            hue=\"Condition\", data=res)"
   ]
  },
  {
   "cell_type": "markdown",
   "metadata": {},
   "source": [
    "**Prototype Model**"
   ]
  },
  {
   "cell_type": "code",
   "execution_count": 10,
   "metadata": {},
   "outputs": [
    {
     "name": "stdout",
     "output_type": "stream",
     "text": [
      "The negative log score is 32.246756097276645\n"
     ]
    },
    {
     "data": {
      "text/plain": [
       "<AxesSubplot:xlabel='Stimulus Type', ylabel='Probability of Endorsement'>"
      ]
     },
     "execution_count": 10,
     "metadata": {},
     "output_type": "execute_result"
    },
    {
     "data": {
      "image/png": "[encoded data removed]",
      "text/plain": [
       "<Figure size 432x288 with 1 Axes>"
      ]
     },
     "metadata": {
      "needs_background": "light"
     },
     "output_type": "display_data"
    }
   ],
   "source": [
    "# human = human_res.groupby(['Condition', 'Stimulus Type'], as_index=False).sum()\n",
    "\n",
    "params = [1.58816955, 0.03164535, 1.87904483, 0.08402034]\n",
    "nllfit = fit_prototype_model_nll(params, human)\n",
    "print(f'The negative log score is {nllfit}')\n",
    "\n",
    "# now plot the data\n",
    "c_cat, k_cat, c_rec, k_rec = params\n",
    "res = get_prototype_results(c_cat, k_cat, c_rec, k_rec)\n",
    "sns.barplot(x=\"Stimulus Type\", y=\"Probability of Endorsement\",\n",
    "            hue=\"Condition\", data=res)"
   ]
  },
  {
   "cell_type": "markdown",
   "metadata": {},
   "source": [
    "**Human data again for reference**"
   ]
  },
  {
   "cell_type": "code",
   "execution_count": 11,
   "metadata": {},
   "outputs": [
    {
     "data": {
      "text/plain": [
       "<AxesSubplot:xlabel='Stimulus Type', ylabel='Probability of Endorsement'>"
      ]
     },
     "execution_count": 11,
     "metadata": {},
     "output_type": "execute_result"
    },
    {
     "data": {
      "image/png": "[encoded data removed]",
      "text/plain": [
       "<Figure size 432x288 with 1 Axes>"
      ]
     },
     "metadata": {
      "needs_background": "light"
     },
     "output_type": "display_data"
    }
   ],
   "source": [
    "sns.barplot(x=\"Stimulus Type\", y=\"Probability of Endorsement\",\n",
    "            hue=\"Condition\", data=get_human_results())"
   ]
  },
  {
   "cell_type": "markdown",
   "metadata": {},
   "source": [
    "<div class=\"alert alert-success\" role=\"alert\">\n",
    "<h3> Problem 7 (10 points) </h3><br>\n",
    "A famous saying is the \"All models are wrong, but some are useful\" (George Box).  Do you think the exemplar or prototype model provides the best account of the data?  Refer to particular patterns in the data that you believe the different models do a better job with.\n",
    "</div>"
   ]
  },
  {
   "cell_type": "markdown",
   "metadata": {},
   "source": [
    "With both RMSE and NLL scoring methods, examplar model performed better than prototype model. However, I believe this is difficult to say one method is much better than the other because each method has different upsides. Examplar model takes into account multiple patterns and finds the similarity which make it better for finding more distorted patterns and specific patterns from the original training data. This is shown in the graphs where examplar performs well with high distortion, random, and old stimuli. On the other hand, prototype model creates a representative prototype and finds similarity with the train data. This make this method stronger at finding averaged/less distorted data, proven by the graphs that show good performance on prototype, low, and random stimuli. As a result, in the five stimulus types, examplar model did slightly better on average, but not by a huge margin."
   ]
  },
  {
   "cell_type": "markdown",
   "metadata": {},
   "source": [
    "<div class=\"alert alert-success\" role=\"alert\">\n",
    "<h3> Problem 8 (5 points) </h3><br>\n",
    "\n",
    "Thinking about how these models work explain why both the exemplar and prototype models have relatively high endorsement for the prototype item even though it was never presented during the training phase.  In addition, explain in your own words why the models are able to explain the high endorsement rates for the old items.\n",
    "    \n",
    "</div>"
   ]
  },
  {
   "cell_type": "markdown",
   "metadata": {},
   "source": [
    "Both exemplar and prototype models have relatively high endorsement for the prototype stimulus because both methods are able to find similarity in the given pattern through mulitple examples (in the case of exemplar) and through creating a single representative prototype (in the case of prototype). Since both methods are essentially doing the same comparision, it makes sense they perform well for endorsing prototype item. In addition, these models are also able to explain the old items with high endorsement rate because examplar keeps the memory of train data, and prototype can compute high similarity with old items to its representative data. Nonetheless, examplar has higher endorsement rate because it can recognize the exact patterns it has seen previously."
   ]
  },
  {
   "cell_type": "markdown",
   "metadata": {},
   "source": [
    "<div class=\"alert alert-success\" role=\"alert\">\n",
    "<h3> Problem 9 (5 points) </h3><br>\n",
    "\n",
    "Are the exemplar model and the prototype model we considered nested?  Would we compare them using AIC, BIC, or the G^2 statistic (or something else)?\n",
    "\n",
    "</div>"
   ]
  },
  {
   "cell_type": "markdown",
   "metadata": {},
   "source": [
    "Exemplar and prototype models are not nested. By definition, a nested model is simply a regression model that contains a subset of the predictor variables in another regression model. Exemplar model stores all training examples/data and use them for similarity calculation, but prototype model stores the represenation of the training data. This means one model cannot be a subset of another model for both exemplar and prototype models. When we compare the two models, AIC and BIC may be valid since both methods combine a term reflecting how well the model fits the data with a term that penalizes the model in proportion to its number of parameters. However, G^2 statistic is widely used for comparing the fit of nested models, which may not be a good fit for comparing exemplar and prototype models."
   ]
  },
  {
   "cell_type": "code",
   "execution_count": null,
   "metadata": {},
   "outputs": [],
   "source": []
  }
 ],
 "metadata": {
  "kernelspec": {
   "display_name": "Python 3 (ipykernel)",
   "language": "python",
   "name": "python3"
  },
  "language_info": {
   "codemirror_mode": {
    "name": "ipython",
    "version": 3
   },
   "file_extension": ".py",
   "mimetype": "text/x-python",
   "name": "python",
   "nbconvert_exporter": "python",
   "pygments_lexer": "ipython3",
   "version": "3.8.5"
  },
  "toc": {
   "base_numbering": 1,
   "nav_menu": {},
   "number_sections": true,
   "sideBar": true,
   "skip_h1_title": false,
   "title_cell": "Table of Contents",
   "title_sidebar": "Contents",
   "toc_cell": false,
   "toc_position": {},
   "toc_section_display": true,
   "toc_window_display": false
  }
 },
 "nbformat": 4,
 "nbformat_minor": 4
}
